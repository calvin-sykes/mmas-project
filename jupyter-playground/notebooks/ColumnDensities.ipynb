{
 "cells": [
  {
   "cell_type": "code",
   "execution_count": 148,
   "metadata": {},
   "outputs": [],
   "source": [
    "import numpy as np\n",
    "import scipy.integrate\n",
    "import scipy.interpolate\n",
    "%matplotlib inline\n",
    "import matplotlib as mpl, matplotlib.pyplot as plt, matplotlib.lines as mlines\n",
    "import glob\n",
    "import operator as op\n",
    "\n",
    "from __future__ import print_function, division\n",
    "\n",
    "mpl.rc('font', size=18)\n",
    "mpl.rc('figure', figsize=(12,6))\n",
    "mpl.rc('figure', autolayout=False)\n",
    "mpl.rc('text', usetex=False)"
   ]
  },
  {
   "cell_type": "code",
   "execution_count": 2,
   "metadata": {},
   "outputs": [],
   "source": [
    "# convert a string representation of a number\n",
    "# of the sort produced by spherical_cloudy\n",
    "# back into a numerical value, by replacing:\n",
    "#     'd' with '.'\n",
    "#     'p' with '+'\n",
    "#     'n' with '-'\n",
    "def deformat_string(s):\n",
    "    return s.replace('d', '.').replace('p', '+').replace('m', '-')\n",
    "\n",
    "ions = ['H I', 'D I', 'He I', 'He II']\n",
    "nions = len(ions)\n",
    "\n",
    "sph_cloudy_dtype = ([('rad', 'float64'),           # radius\n",
    "                     ('temp', 'float64'),          # temperature\n",
    "                     ('masspp', 'float64'),        # mean particle mass\n",
    "                     ('hden', 'float64'),          # HI volume density\n",
    "                     ('HaSB', 'float64'),          # surface brightness in H-alpha\n",
    "                     ('vden', 'float64', nions),   # volume density for each species\n",
    "                     ('cden', 'float64', nions)])  # column density for each species\n",
    "\n",
    "class SphCloudyResult:\n",
    "    def __init__(self, fname):\n",
    "        self.fname = fname\n",
    "        self.data = np.load(fname)\n",
    "        self.data.dtype = sph_cloudy_dtype\n",
    "        \n",
    "        # parse the file name to extract model parameters\n",
    "        self.params = dict()\n",
    "        end_of_rel_path = fname.rfind('/') + 1\n",
    "        fname_parts = fname[end_of_rel_path:].split('_')\n",
    "        for part in fname_parts:\n",
    "            if(part == 'NFW'):\n",
    "                self.params['profile'] = 'NFW'\n",
    "            elif part.startswith('mass'):\n",
    "                mass_str = deformat_string(part[4:])\n",
    "                self.params['mass'] = float(mass_str)\n",
    "            elif part.startswith('redshift'):\n",
    "                z_str = deformat_string(part[8:])\n",
    "                self.params['redshift'] = float(z_str)\n",
    "            elif part.startswith('baryscl'):\n",
    "                bary_str = deformat_string(part[7:])\n",
    "                self.params['bary_scl'] = float(bary_str)\n",
    "            elif part.startswith('HMscale'):\n",
    "                He_str = deformat_string(part[7:])\n",
    "                self.params['HM_scl'] = float(He_str)\n",
    "            else:\n",
    "                # remaining part is nrad_nmu (.npy)\n",
    "                nrad, nmu = (part.rstrip('.npy').split('-'))\n",
    "                self.params['n_rad'] = nrad\n",
    "                self.params['nmu'] = nmu"
   ]
  },
  {
   "cell_type": "markdown",
   "metadata": {},
   "source": [
    "## Load data from spherical_cloudy"
   ]
  },
  {
   "cell_type": "code",
   "execution_count": 187,
   "metadata": {},
   "outputs": [],
   "source": [
    "sph_cloudy_files = glob.glob('../output/force_nHT/NFW*.npy')\n",
    "sph_cloudy_data = [SphCloudyResult(f) for f in sph_cloudy_files]\n",
    "\n",
    "def compose(f, g):\n",
    "    return lambda x: f(g(x))\n",
    "\n",
    "nvalues = 1000\n",
    "nhaloes = len(sph_cloudy_data)\n",
    "\n",
    "sorted_by_mass = sorted(sph_cloudy_data, key=compose(op.itemgetter('mass'),op.attrgetter('params')))\n",
    "sph_cloudy_masses = 10**np.array(list(map(compose(op.itemgetter('mass'),op.attrgetter('params')), sorted_by_mass)))\n",
    "sph_cloudy_radii = np.array([res.data['rad'] for res in sorted_by_mass]).reshape(nhaloes, nvalues)\n",
    "sph_cloudy_lognh = np.log10([res.data['hden'] for res in sorted_by_mass]).reshape(nhaloes, nvalues)\n",
    "sph_cloudy_logT = np.log10([res.data['temp'] for res in sorted_by_mass]).reshape(nhaloes, nvalues)\n",
    "sph_cloudy_mu = np.array([res.data['masspp'] for res in sorted_by_mass]).reshape(nhaloes, nvalues)\n",
    "sph_cloudy_cd = np.array([res.data['cden'] for res in sorted_by_mass]).reshape(nhaloes, nvalues, nions)\n",
    "sph_cloudy_vd = np.array([res.data['vden'] for res in sorted_by_mass]).reshape(nhaloes, nvalues, nions)"
   ]
  },
  {
   "cell_type": "code",
   "execution_count": 198,
   "metadata": {
    "scrolled": false
   },
   "outputs": [
    {
     "data": {
      "image/png": "[encoded data removed]",
      "text/plain": [
       "<matplotlib.figure.Figure at 0x7f3581c7de50>"
      ]
     },
     "metadata": {},
     "output_type": "display_data"
    }
   ],
   "source": [
    "cm_per_pc = 3e10 * 86400 * 365 * 3.26\n",
    "solmass = 1.990e33\n",
    "rho200 = 200 * 8.46543558829e-30\n",
    "\n",
    "which = 0\n",
    "\n",
    "# mu = 1 (ie theta = 0)\n",
    "\n",
    "r200 = lambda m200: (3 * m200 * solmass / (4 * np.pi * rho200))**(1/3)\n",
    "R200s = r200(sph_cloudy_masses)\n",
    "\n",
    "def func(r, rmin, n, mu):\n",
    "    #%pdb\n",
    "    #assert r**2 > rmin**2 * (1 - mu**2)\n",
    "    return (r * n) / np.sqrt(r**2 - rmin**2 * (1 - mu**2))\n",
    "\n",
    "def coldens(radius, density, mu):\n",
    "    ret = np.zeros_like(radius)\n",
    "    #func = lambda r, n: (r * n) / np.sqrt(r**2 - rmin**2 * (1 - mu**2))\n",
    "    if mu < 0:\n",
    "        raise ValueError('Not implemented!')\n",
    "        #for idx, rmin in enumerate(radius):\n",
    "        #    rg1 = np.logical_and(radius > (rmin * np.sqrt(1 - mu**2)), radius < rmin)\n",
    "        #    rg2 = np.logical_and(radius < (rmin * np.sqrt(1 - mu**2)), radius < R200s[which])\n",
    "        #    ret[idx] = (scipy.integrate.trapz(func(radius[rg1], rmin, density[rg1], mu), radius[rg1]) if rg1.any() == True else 0 +\n",
    "        #                scipy.integrate.trapz(func(radius[rg2], rmin, density[rg2], mu), radius[rg2]) if rg2.any() == True else 0)\n",
    "    else:\n",
    "        for idx, rmin in enumerate(radius):\n",
    "            rg = radius > rmin\n",
    "            ret[idx] = scipy.integrate.trapz(func(radius[rg], rmin, density[rg], mu), radius[rg])\n",
    "    return ret\n",
    "\n",
    "plt.xlim(0,1)\n",
    "plt.plot((sph_cloudy_radii[which])*cm_per_pc/R200s[which], coldens(sph_cloudy_radii[which] * cm_per_pc, sph_cloudy_vd[which,:,0], 1));\n",
    "plt.plot((sph_cloudy_radii[which])*cm_per_pc/R200s[which], sph_cloudy_cd[which,:,0]);"
   ]
  },
  {
   "cell_type": "code",
   "execution_count": null,
   "metadata": {},
   "outputs": [],
   "source": []
  }
 ],
 "metadata": {
  "kernelspec": {
   "display_name": "Python 2",
   "language": "python",
   "name": "python2"
  },
  "language_info": {
   "codemirror_mode": {
    "name": "ipython",
    "version": 2
   },
   "file_extension": ".py",
   "mimetype": "text/x-python",
   "name": "python",
   "nbconvert_exporter": "python",
   "pygments_lexer": "ipython2",
   "version": "2.7.10"
  }
 },
 "nbformat": 4,
 "nbformat_minor": 2
}
