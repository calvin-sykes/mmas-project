{
 "cells": [
  {
   "cell_type": "code",
   "execution_count": 1,
   "metadata": {},
   "outputs": [],
   "source": [
    "import numpy as np\n",
    "import scipy.integrate\n",
    "import scipy.interpolate\n",
    "%matplotlib inline\n",
    "import matplotlib as mpl, matplotlib.pyplot as plt\n",
    "import glob\n",
    "import operator\n",
    "\n",
    "from __future__ import print_function, division\n",
    "\n",
    "mpl.rc('font', size=18)\n",
    "mpl.rc('figure', figsize=(12,6))"
   ]
  },
  {
   "cell_type": "code",
   "execution_count": 17,
   "metadata": {},
   "outputs": [],
   "source": [
    "# convert a string representation of a number\n",
    "# of the sort produced by spherical_cloudy\n",
    "# back into a numerical value, by replacing:\n",
    "#     'd' with '.'\n",
    "#     'p' with '+'\n",
    "#     'n' with '-'\n",
    "def deformat_string(s):\n",
    "    return s.replace('d', '.').replace('p', '+').replace('m', '-')\n",
    "\n",
    "ions = ['H I', 'D I', 'He I', 'He II']\n",
    "nions = len(ions)\n",
    "\n",
    "sph_cloudy_dtype = ([('rad', 'float64'), # radius\n",
    "           ('temp', 'float64'),          # temperature\n",
    "           ('hden', 'float64'),          # HI volume density\n",
    "           ('HaSB', 'float64'),          # surface brightness in H-alpha\n",
    "           ('tden', 'float64', nions),   # volume density for each species\n",
    "           ('cden', 'float64', nions)])  # column density for each species\n",
    "\n",
    "class SphCloudyResult:\n",
    "    def __init__(self, fname):\n",
    "        self.fname = fname\n",
    "        self.data = np.load(fname)\n",
    "        self.data.dtype = sph_cloudy_dtype\n",
    "        \n",
    "        # parse the file name to extract model parameters\n",
    "        self.params = dict()\n",
    "        end_of_rel_path = fname.rfind('/') + 1\n",
    "        fname_parts = fname[end_of_rel_path:].split('_')\n",
    "        for part in fname_parts:\n",
    "            if(part == 'NFW'):\n",
    "                self.params['profile'] = 'NFW'\n",
    "            elif part.startswith('mass'):\n",
    "                mass_str = deformat_string(part[4:])\n",
    "                self.params['mass'] = float(mass_str)\n",
    "            elif part.startswith('redshift'):\n",
    "                z_str = deformat_string(part[8:])\n",
    "                self.params['redshift'] = float(z_str)\n",
    "            elif part.startswith('baryscl'):\n",
    "                bary_str = deformat_string(part[7:])\n",
    "                self.params['bary_scl'] = float(bary_str)\n",
    "            elif part.startswith('HMscale'):\n",
    "                He_str = deformat_string(part[7:])\n",
    "                self.params['HM_scl'] = float(He_str)\n",
    "            else:\n",
    "                # remaining part is nrad_nmu (.npy)\n",
    "                nrad, nmu = (part.rstrip('.npy').split('-'))\n",
    "                self.params['n_rad'] = nrad\n",
    "                self.params['nmu'] = nmu"
   ]
  },
  {
   "cell_type": "code",
   "execution_count": 18,
   "metadata": {},
   "outputs": [],
   "source": [
    "sph_cloudy_files = glob.glob('./data/NFW*.npy')\n",
    "sph_cloudy_data = [SphCloudyResult(f) for f in sph_cloudy_files]\n",
    "\n",
    "def compose(f, g):\n",
    "    return lambda x: f(g(x))\n",
    "\n",
    "sorted_by_mass = sorted(sph_cloudy_data, key=compose(operator.itemgetter('mass'),operator.attrgetter('params')))"
   ]
  },
  {
   "cell_type": "code",
   "execution_count": 6,
   "metadata": {
    "scrolled": false
   },
   "outputs": [
    {
     "ename": "FileNotFoundError",
     "evalue": "[Errno 2] No such file or directory: 'rhos_gas.dat'",
     "output_type": "error",
     "traceback": [
      "\u001b[0;31m---------------------------------------------------------------------------\u001b[0m",
      "\u001b[0;31mFileNotFoundError\u001b[0m                         Traceback (most recent call last)",
      "\u001b[0;32m<ipython-input-6-6fd68a562423>\u001b[0m in \u001b[0;36m<module>\u001b[0;34m()\u001b[0m\n\u001b[1;32m      7\u001b[0m \u001b[0msorted_by_mass\u001b[0m \u001b[0;34m=\u001b[0m \u001b[0msorted\u001b[0m\u001b[0;34m(\u001b[0m\u001b[0msph_cloudy_data\u001b[0m\u001b[0;34m,\u001b[0m \u001b[0mkey\u001b[0m\u001b[0;34m=\u001b[0m\u001b[0mcompose\u001b[0m\u001b[0;34m(\u001b[0m\u001b[0moperator\u001b[0m\u001b[0;34m.\u001b[0m\u001b[0mitemgetter\u001b[0m\u001b[0;34m(\u001b[0m\u001b[0;34m'mass'\u001b[0m\u001b[0;34m)\u001b[0m\u001b[0;34m,\u001b[0m\u001b[0moperator\u001b[0m\u001b[0;34m.\u001b[0m\u001b[0mattrgetter\u001b[0m\u001b[0;34m(\u001b[0m\u001b[0;34m'params'\u001b[0m\u001b[0;34m)\u001b[0m\u001b[0;34m)\u001b[0m\u001b[0;34m)\u001b[0m\u001b[0;34m\u001b[0m\u001b[0m\n\u001b[1;32m      8\u001b[0m \u001b[0;34m\u001b[0m\u001b[0m\n\u001b[0;32m----> 9\u001b[0;31m \u001b[0mradii\u001b[0m\u001b[0;34m,\u001b[0m \u001b[0mrhos\u001b[0m \u001b[0;34m=\u001b[0m \u001b[0mnp\u001b[0m\u001b[0;34m.\u001b[0m\u001b[0mhsplit\u001b[0m\u001b[0;34m(\u001b[0m\u001b[0mnp\u001b[0m\u001b[0;34m.\u001b[0m\u001b[0mloadtxt\u001b[0m\u001b[0;34m(\u001b[0m\u001b[0;34m'rhos_gas.dat'\u001b[0m\u001b[0;34m)\u001b[0m\u001b[0;34m,\u001b[0m \u001b[0;34m[\u001b[0m\u001b[0;36m1\u001b[0m\u001b[0;34m]\u001b[0m\u001b[0;34m)\u001b[0m\u001b[0;34m\u001b[0m\u001b[0m\n\u001b[0m\u001b[1;32m     10\u001b[0m \u001b[0mradii\u001b[0m \u001b[0;34m=\u001b[0m \u001b[0mradii\u001b[0m\u001b[0;34m.\u001b[0m\u001b[0mflatten\u001b[0m\u001b[0;34m(\u001b[0m\u001b[0;34m)\u001b[0m\u001b[0;34m\u001b[0m\u001b[0m\n\u001b[1;32m     11\u001b[0m \u001b[0;34m\u001b[0m\u001b[0m\n",
      "\u001b[0;32m/usr/local/lib/python3.5/dist-packages/numpy/lib/npyio.py\u001b[0m in \u001b[0;36mloadtxt\u001b[0;34m(fname, dtype, comments, delimiter, converters, skiprows, usecols, unpack, ndmin)\u001b[0m\n\u001b[1;32m    896\u001b[0m                 \u001b[0mfh\u001b[0m \u001b[0;34m=\u001b[0m \u001b[0miter\u001b[0m\u001b[0;34m(\u001b[0m\u001b[0mopen\u001b[0m\u001b[0;34m(\u001b[0m\u001b[0mfname\u001b[0m\u001b[0;34m,\u001b[0m \u001b[0;34m'U'\u001b[0m\u001b[0;34m)\u001b[0m\u001b[0;34m)\u001b[0m\u001b[0;34m\u001b[0m\u001b[0m\n\u001b[1;32m    897\u001b[0m             \u001b[0;32melse\u001b[0m\u001b[0;34m:\u001b[0m\u001b[0;34m\u001b[0m\u001b[0m\n\u001b[0;32m--> 898\u001b[0;31m                 \u001b[0mfh\u001b[0m \u001b[0;34m=\u001b[0m \u001b[0miter\u001b[0m\u001b[0;34m(\u001b[0m\u001b[0mopen\u001b[0m\u001b[0;34m(\u001b[0m\u001b[0mfname\u001b[0m\u001b[0;34m)\u001b[0m\u001b[0;34m)\u001b[0m\u001b[0;34m\u001b[0m\u001b[0m\n\u001b[0m\u001b[1;32m    899\u001b[0m         \u001b[0;32melse\u001b[0m\u001b[0;34m:\u001b[0m\u001b[0;34m\u001b[0m\u001b[0m\n\u001b[1;32m    900\u001b[0m             \u001b[0mfh\u001b[0m \u001b[0;34m=\u001b[0m \u001b[0miter\u001b[0m\u001b[0;34m(\u001b[0m\u001b[0mfname\u001b[0m\u001b[0;34m)\u001b[0m\u001b[0;34m\u001b[0m\u001b[0m\n",
      "\u001b[0;31mFileNotFoundError\u001b[0m: [Errno 2] No such file or directory: 'rhos_gas.dat'"
     ]
    }
   ],
   "source": [
    "radii, rhos = np.hsplit(np.loadtxt('rhos_gas.dat'), [1])\n",
    "radii = radii.flatten()"
   ]
  },
  {
   "cell_type": "code",
   "execution_count": null,
   "metadata": {},
   "outputs": [],
   "source": []
  },
  {
   "cell_type": "code",
   "execution_count": null,
   "metadata": {},
   "outputs": [],
   "source": []
  }
 ],
 "metadata": {
  "kernelspec": {
   "display_name": "Python 3",
   "language": "python",
   "name": "python3"
  },
  "language_info": {
   "codemirror_mode": {
    "name": "ipython",
    "version": 3
   },
   "file_extension": ".py",
   "mimetype": "text/x-python",
   "name": "python",
   "nbconvert_exporter": "python",
   "pygments_lexer": "ipython3",
   "version": "3.5.2"
  }
 },
 "nbformat": 4,
 "nbformat_minor": 2
}
