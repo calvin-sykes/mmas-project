{
 "cells": [
  {
   "cell_type": "code",
   "execution_count": 1,
   "metadata": {},
   "outputs": [],
   "source": [
    "import numpy as np\n",
    "import scipy.integrate\n",
    "import scipy.interpolate\n",
    "%matplotlib inline\n",
    "import matplotlib as mpl, matplotlib.pyplot as plt\n",
    "import glob\n",
    "import operator\n",
    "\n",
    "from __future__ import print_function, division\n",
    "\n",
    "mpl.rc('font', size=18)\n",
    "mpl.rc('figure', figsize=(12,6))"
   ]
  },
  {
   "cell_type": "code",
   "execution_count": 2,
   "metadata": {},
   "outputs": [],
   "source": [
    "# convert a string representation of a number\n",
    "# of the sort produced by spherical_cloudy\n",
    "# back into a numerical value, by replacing:\n",
    "#     'd' with '.'\n",
    "#     'p' with '+'\n",
    "#     'n' with '-'\n",
    "def deformat_string(s):\n",
    "    return s.replace('d', '.').replace('p', '+').replace('m', '-')\n",
    "\n",
    "ions = ['H I', 'D I', 'He I', 'He II']\n",
    "nions = len(ions)\n",
    "\n",
    "sph_cloudy_dtype = ([('rad', 'float64'), # radius\n",
    "           ('temp', 'float64'),          # temperature\n",
    "           ('hden', 'float64'),          # HI volume density\n",
    "           ('HaSB', 'float64'),          # surface brightness in H-alpha\n",
    "           ('tden', 'float64', nions),   # volume density for each species\n",
    "           ('cden', 'float64', nions)])  # column density for each species\n",
    "\n",
    "class SphCloudyResult:\n",
    "    def __init__(self, fname):\n",
    "        self.fname = fname\n",
    "        self.data = np.load(fname)\n",
    "        self.data.dtype = sph_cloudy_dtype\n",
    "        \n",
    "        # parse the file name to extract model parameters\n",
    "        self.params = dict()\n",
    "        fname_parts = fname.split('_')\n",
    "        for part in fname_parts:\n",
    "            if(part == 'NFW'):\n",
    "                self.params['profile'] = 'NFW'\n",
    "            elif part.startswith('mass'):\n",
    "                mass_str = deformat_string(part[4:])\n",
    "                self.params['mass'] = float(mass_str)\n",
    "            elif part.startswith('redshift'):\n",
    "                z_str = deformat_string(part[8:])\n",
    "                self.params['redshift'] = float(z_str)\n",
    "            elif part.startswith('baryscl'):\n",
    "                bary_str = deformat_string(part[7:])\n",
    "                self.params['bary_scl'] = float(bary_str)\n",
    "            elif part.startswith('HMscale'):\n",
    "                He_str = deformat_string(part[7:])\n",
    "                self.params['HM_scl'] = float(He_str)\n",
    "            else:\n",
    "                # remaining part is nrad_nmu (.npy)\n",
    "                nrad, nmu = (part.rstrip('.npy').split('-'))\n",
    "                self.params['n_rad'] = nrad\n",
    "                self.params['nmu'] = nmu"
   ]
  },
  {
   "cell_type": "code",
   "execution_count": 5,
   "metadata": {
    "scrolled": false
   },
   "outputs": [],
   "source": [
    "sph_cloudy_files = glob.glob('NFW*.npy')\n",
    "sph_cloudy_data = [SphCloudyResult(f) for f in sph_cloudy_files]\n",
    "\n",
    "def compose(f, g):\n",
    "    return lambda x: f(g(x))\n",
    "\n",
    "sorted_by_mass = sorted(sph_cloudy_data, key=compose(operator.itemgetter('mass'),operator.attrgetter('params')))\n",
    "\n",
    "radii, rhos = np.hsplit(np.loadtxt('rhos_gas.dat'), [1])\n",
    "radii = radii.flatten()\n",
    "\n",
    "\n"
   ]
  },
  {
   "cell_type": "code",
   "execution_count": null,
   "metadata": {},
   "outputs": [],
   "source": []
  }
 ],
 "metadata": {
  "kernelspec": {
   "display_name": "Python 3",
   "language": "python",
   "name": "python3"
  },
  "language_info": {
   "codemirror_mode": {
    "name": "ipython",
    "version": 3
   },
   "file_extension": ".py",
   "mimetype": "text/x-python",
   "name": "python",
   "nbconvert_exporter": "python",
   "pygments_lexer": "ipython3",
   "version": "3.5.2"
  }
 },
 "nbformat": 4,
 "nbformat_minor": 2
}
