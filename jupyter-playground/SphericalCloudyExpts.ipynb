{
 "cells": [
  {
   "cell_type": "code",
   "execution_count": 1,
   "metadata": {},
   "outputs": [],
   "source": [
    "import numpy as np\n",
    "import scipy.integrate\n",
    "import scipy.interpolate\n",
    "%matplotlib inline\n",
    "import matplotlib as mpl, matplotlib.pyplot as plt\n",
    "import glob\n",
    "import operator as op\n",
    "\n",
    "from __future__ import print_function, division\n",
    "\n",
    "mpl.rc('font', size=18)\n",
    "mpl.rc('figure', figsize=(12,6))"
   ]
  },
  {
   "cell_type": "code",
   "execution_count": 2,
   "metadata": {},
   "outputs": [],
   "source": [
    "# convert a string representation of a number\n",
    "# of the sort produced by spherical_cloudy\n",
    "# back into a numerical value, by replacing:\n",
    "#     'd' with '.'\n",
    "#     'p' with '+'\n",
    "#     'n' with '-'\n",
    "def deformat_string(s):\n",
    "    return s.replace('d', '.').replace('p', '+').replace('m', '-')\n",
    "\n",
    "ions = ['H I', 'D I', 'He I', 'He II']\n",
    "nions = len(ions)\n",
    "\n",
    "sph_cloudy_dtype = ([('rad', 'float64'), # radius\n",
    "           ('temp', 'float64'),          # temperature\n",
    "           ('hden', 'float64'),          # HI volume density\n",
    "           ('HaSB', 'float64'),          # surface brightness in H-alpha\n",
    "           ('tden', 'float64', nions),   # volume density for each species\n",
    "           ('cden', 'float64', nions)])  # column density for each species\n",
    "\n",
    "class SphCloudyResult:\n",
    "    def __init__(self, fname):\n",
    "        self.fname = fname\n",
    "        self.data = np.load(fname)\n",
    "        self.data.dtype = sph_cloudy_dtype\n",
    "        \n",
    "        # parse the file name to extract model parameters\n",
    "        self.params = dict()\n",
    "        end_of_rel_path = fname.rfind('/') + 1\n",
    "        fname_parts = fname[end_of_rel_path:].split('_')\n",
    "        for part in fname_parts:\n",
    "            if(part == 'NFW'):\n",
    "                self.params['profile'] = 'NFW'\n",
    "            elif part.startswith('mass'):\n",
    "                mass_str = deformat_string(part[4:])\n",
    "                self.params['mass'] = float(mass_str)\n",
    "            elif part.startswith('redshift'):\n",
    "                z_str = deformat_string(part[8:])\n",
    "                self.params['redshift'] = float(z_str)\n",
    "            elif part.startswith('baryscl'):\n",
    "                bary_str = deformat_string(part[7:])\n",
    "                self.params['bary_scl'] = float(bary_str)\n",
    "            elif part.startswith('HMscale'):\n",
    "                He_str = deformat_string(part[7:])\n",
    "                self.params['HM_scl'] = float(He_str)\n",
    "            else:\n",
    "                # remaining part is nrad_nmu (.npy)\n",
    "                nrad, nmu = (part.rstrip('.npy').split('-'))\n",
    "                self.params['n_rad'] = nrad\n",
    "                self.params['nmu'] = nmu"
   ]
  },
  {
   "cell_type": "code",
   "execution_count": 22,
   "metadata": {},
   "outputs": [],
   "source": [
    "sph_cloudy_files = glob.glob('./data/NFW*.npy')\n",
    "sph_cloudy_data = [SphCloudyResult(f) for f in sph_cloudy_files]\n",
    "\n",
    "def compose(f, g):\n",
    "    return lambda x: f(g(x))\n",
    "\n",
    "sorted_by_mass = sorted(sph_cloudy_data, key=compose(op.itemgetter('mass'),op.attrgetter('params')))\n",
    "sph_cloudy_masses = np.array(list(map(compose(op.itemgetter('mass'),op.attrgetter('params')), sorted_by_mass)))\n",
    "sph_cloudy_radii = np.array([res.data['rad'] for res in sorted_by_mass]).squeeze()\n",
    "sph_cloudy_lognh = np.log10([res.data['hden'] for res in sorted_by_mass]).squeeze()"
   ]
  },
  {
   "cell_type": "code",
   "execution_count": 29,
   "metadata": {},
   "outputs": [],
   "source": [
    "fname_ext = '.dat'\n",
    "fname_base = 'rhos_gas_eagle'\n",
    "fname_rho = fname_base + fname_ext\n",
    "fname_M = fname_base + '_masses' + fname_ext\n",
    "fname_Rv = fname_base + '_Rvirs' + fname_ext\n",
    "masses = np.loadtxt(fname_M)\n",
    "rtws, rhos_gas = np.hsplit(np.loadtxt(fname_rho), [1])\n",
    "R200s = np.loadtxt(fname_Rv).flatten()\n",
    "rtws = rtws.flatten()\n",
    "rhos_gas = rhos_gas.T\n",
    "\n",
    "cm_per_kpc = 3e10 * 86400 * 365 * 3.26 * 1000\n",
    "mp = 1.673e-24"
   ]
  },
  {
   "cell_type": "code",
   "execution_count": 30,
   "metadata": {},
   "outputs": [
    {
     "data": {
      "text/plain": [
       "[<matplotlib.lines.Line2D at 0x7f4386b1fba8>]"
      ]
     },
     "execution_count": 30,
     "metadata": {},
     "output_type": "execute_result"
    },
    {
     "data": {
      "image/png": "[encoded data removed]",
      "text/plain": [
       "<matplotlib.figure.Figure at 0x7f4386b1ddd8>"
      ]
     },
     "metadata": {},
     "output_type": "display_data"
    }
   ],
   "source": [
    "idx = 19\n",
    "\n",
    "plt.figure()\n",
    "plt.plot(sph_cloudy_radii[idx] / 1000, sph_cloudy_lognh[idx])\n",
    "plt.plot(rtws * R200s[idx] / cm_per_kpc, np.log10(rhos_gas[idx] / mp))"
   ]
  }
 ],
 "metadata": {
  "kernelspec": {
   "display_name": "Python 3",
   "language": "python",
   "name": "python3"
  },
  "language_info": {
   "codemirror_mode": {
    "name": "ipython",
    "version": 3
   },
   "file_extension": ".py",
   "mimetype": "text/x-python",
   "name": "python",
   "nbconvert_exporter": "python",
   "pygments_lexer": "ipython3",
   "version": "3.5.2"
  }
 },
 "nbformat": 4,
 "nbformat_minor": 2
}
